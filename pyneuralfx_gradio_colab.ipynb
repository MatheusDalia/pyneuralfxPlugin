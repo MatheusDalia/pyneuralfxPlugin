{
 "cells": [
  {
   "cell_type": "markdown",
   "id": "33a3f814",
   "metadata": {},
   "source": [
    "# Neural Audio Processing with Gradio\n",
    "This notebook runs the pyneuralfxPlugin Gradio app in Google Colab."
   ]
  },
  {
   "cell_type": "code",
   "execution_count": null,
   "id": "b849db09",
   "metadata": {},
   "outputs": [],
   "source": [
    "# Install required packages\n",
    "!pip install torch gradio numpy soundfile librosa einops pyloudnorm ipython"
   ]
  },
  {
   "cell_type": "code",
   "execution_count": null,
   "id": "86875484",
   "metadata": {},
   "outputs": [],
   "source": [
    "# Clone the repository (if not already cloned)\n",
    "!git clone https://github.com/MatheusDalia/pyneuralfxPlugin.git || echo 'Repo already cloned.'"
   ]
  },
  {
   "cell_type": "code",
   "execution_count": null,
   "id": "18568bfd",
   "metadata": {},
   "outputs": [],
   "source": [
    "# Set up PYTHONPATH so imports work\n",
    "import sys\n",
    "sys.path.append('/content/pyneuralfxPlugin')\n",
    "sys.path.append('/content/pyneuralfxPlugin/frame_work')\n",
    "sys.path.append('/content/pyneuralfxPlugin/src')"
   ]
  },
  {
   "cell_type": "markdown",
   "id": "304ab61d",
   "metadata": {},
   "source": [
    "## Upload Required Files (if needed)\n",
    "If you need to upload model weights or config files, use the cell below."
   ]
  },
  {
   "cell_type": "code",
   "execution_count": null,
   "id": "b0a41808",
   "metadata": {},
   "outputs": [],
   "source": [
    "from google.colab import files\n",
    "uploaded = files.upload()"
   ]
  },
  {
   "cell_type": "markdown",
   "id": "bc1aa95a",
   "metadata": {},
   "source": [
    "## Run the Gradio App\n",
    "This will launch the Gradio interface. Use the public link to access it."
   ]
  },
  {
   "cell_type": "code",
   "execution_count": null,
   "id": "682f5432",
   "metadata": {},
   "outputs": [],
   "source": [
    "# Run the Gradio app\n",
    "!python /content/pyneuralfxPlugin/gradio_app.py --share"
   ]
  }
 ],
 "metadata": {
  "language_info": {
   "name": "python"
  }
 },
 "nbformat": 4,
 "nbformat_minor": 5
}
